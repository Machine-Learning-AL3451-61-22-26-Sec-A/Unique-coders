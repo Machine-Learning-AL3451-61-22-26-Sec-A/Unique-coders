{
  "nbformat": 4,
  "nbformat_minor": 0,
  "metadata": {
    "colab": {
      "provenance": []
    },
    "kernelspec": {
      "name": "python3",
      "display_name": "Python 3"
    },
    "language_info": {
      "name": "python"
    }
  },
  "cells": [
    {
      "cell_type": "code",
      "source": [
        "import pandas as pd\n",
        "import numpy as np\n",
        "# import bayespy as bp\n",
        "import warnings\n",
        "warnings.filterwarnings('ignore')\n",
        "heart_disease=pd.read_csv(\"data7_heart.csv\")\n",
        "from pgmpy.models import BayesianModel\n",
        "from pgmpy.estimators import MaximumLikelihoodEstimator\n",
        "model=BayesianModel([('age','trestbps'), ('age', 'fbs'), ('sex', 'trestbps'), ('exang',\n",
        "'trestbps'),('trestbps','heartdisease'),('fbs','heartdisease'),('heartdisease','restecg'),\n",
        "('heartdisease','thalach'), ('heartdisease','chol')])\n",
        "model.fit(heart_disease, estimator=MaximumLikelihoodEstimator)\n",
        "from pgmpy.inference import VariableElimination\n",
        "HeartDisease_infer = VariableElimination(model)\n",
        "q = HeartDisease_infer.query(variables=['heartdisease'], evidence={'age': 63, 'sex' :0,'trestbps':150})\n",
        "print(q)"
      ],
      "metadata": {
        "colab": {
          "base_uri": "https://localhost:8080/"
        },
        "id": "GAilavu9INe6",
        "outputId": "65a2ee44-40af-4462-dae2-6195315e83a2"
      },
      "execution_count": 15,
      "outputs": [
        {
          "output_type": "stream",
          "name": "stderr",
          "text": [
            "WARNING:pgmpy:BayesianModel has been renamed to BayesianNetwork. Please use BayesianNetwork class, BayesianModel will be removed in future.\n",
            "WARNING:pgmpy:BayesianModel has been renamed to BayesianNetwork. Please use BayesianNetwork class, BayesianModel will be removed in future.\n",
            "WARNING:pgmpy:BayesianModel has been renamed to BayesianNetwork. Please use BayesianNetwork class, BayesianModel will be removed in future.\n"
          ]
        },
        {
          "output_type": "stream",
          "name": "stdout",
          "text": [
            "+-----------------+---------------------+\n",
            "| heartdisease    |   phi(heartdisease) |\n",
            "+=================+=====================+\n",
            "| heartdisease(0) |              0.5214 |\n",
            "+-----------------+---------------------+\n",
            "| heartdisease(1) |              0.1795 |\n",
            "+-----------------+---------------------+\n",
            "| heartdisease(2) |              0.0000 |\n",
            "+-----------------+---------------------+\n",
            "| heartdisease(3) |              0.1197 |\n",
            "+-----------------+---------------------+\n",
            "| heartdisease(4) |              0.1795 |\n",
            "+-----------------+---------------------+\n"
          ]
        }
      ]
    }
  ]
}